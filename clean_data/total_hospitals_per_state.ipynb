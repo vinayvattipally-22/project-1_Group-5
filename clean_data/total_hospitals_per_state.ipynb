{
 "cells": [
  {
   "cell_type": "code",
   "execution_count": 5,
   "metadata": {},
   "outputs": [],
   "source": [
    "# Importing libraries\n",
    "import pandas as pd\n",
    "\n"
   ]
  },
  {
   "cell_type": "code",
   "execution_count": 12,
   "metadata": {},
   "outputs": [],
   "source": [
    "#Create hospitals dataframe from path\n",
    "hospital_df = pd.read_csv(\"../project-1_Group-5/Resources/Unplanned_Hospital_Visits-Hospital.csv\", low_memory=False)"
   ]
  },
  {
   "cell_type": "code",
   "execution_count": 16,
   "metadata": {},
   "outputs": [
    {
     "data": {
      "text/plain": [
       "State\n",
       "AK     21\n",
       "AL     86\n",
       "AR     72\n",
       "AS      1\n",
       "AZ     76\n",
       "CA    295\n",
       "CO     80\n",
       "CT     31\n",
       "DC      7\n",
       "DE      7\n",
       "FL    181\n",
       "GA    130\n",
       "GU      2\n",
       "HI     22\n",
       "IA    113\n",
       "ID     40\n",
       "IL    162\n",
       "IN    107\n",
       "KS    126\n",
       "KY     90\n",
       "LA    101\n",
       "MA     58\n",
       "MD     45\n",
       "ME     32\n",
       "MI    125\n",
       "MN    124\n",
       "MO    104\n",
       "MP      1\n",
       "MS     88\n",
       "MT     60\n",
       "NC    106\n",
       "ND     45\n",
       "NE     85\n",
       "NH     25\n",
       "NJ     62\n",
       "NM     38\n",
       "NV     37\n",
       "NY    150\n",
       "OH    151\n",
       "OK    108\n",
       "OR     56\n",
       "PA    149\n",
       "PR     42\n",
       "RI     10\n",
       "SC     58\n",
       "SD     56\n",
       "TN     95\n",
       "TX    337\n",
       "UT     44\n",
       "VA     85\n",
       "VI      2\n",
       "VT     15\n",
       "WA     91\n",
       "WI    120\n",
       "WV     46\n",
       "WY     26\n",
       "Name: ZIP Code, dtype: int64"
      ]
     },
     "execution_count": 16,
     "metadata": {},
     "output_type": "execute_result"
    }
   ],
   "source": [
    "#Count the total number of hospitals per state by grouping by state and counting unique hospital zip codes\n",
    "total_hospitals = hospital_df.groupby(\"State\")[\"ZIP Code\"].nunique()\n",
    "total_hospitals"
   ]
  }
 ],
 "metadata": {
  "kernelspec": {
   "display_name": "dev",
   "language": "python",
   "name": "python3"
  },
  "language_info": {
   "codemirror_mode": {
    "name": "ipython",
    "version": 3
   },
   "file_extension": ".py",
   "mimetype": "text/x-python",
   "name": "python",
   "nbconvert_exporter": "python",
   "pygments_lexer": "ipython3",
   "version": "3.10.12"
  },
  "orig_nbformat": 4
 },
 "nbformat": 4,
 "nbformat_minor": 2
}
